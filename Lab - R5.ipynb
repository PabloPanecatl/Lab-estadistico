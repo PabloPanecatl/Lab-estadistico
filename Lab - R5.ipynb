{
 "cells": [
  {
   "cell_type": "markdown",
   "id": "70086771-ad90-497d-9b51-22626c9cce63",
   "metadata": {},
   "source": [
    "# Laboratorio de regresión - 5"
   ]
  },
  {
   "cell_type": "markdown",
   "id": "9f666e0e-9e63-49f4-96e1-053c5b1738c3",
   "metadata": {},
   "source": [
    "|                |   |\n",
    ":----------------|---|\n",
    "| **Nombre**     | Pablo Josué Panécatl García  |\n",
    "| **Fecha**      | 15/09/2025  |\n",
    "| **Expediente** |  751773 |"
   ]
  },
  {
   "cell_type": "markdown",
   "id": "19f352dc-5863-4685-af3c-25f8fcf60841",
   "metadata": {},
   "source": [
    "## Validación"
   ]
  },
  {
   "cell_type": "markdown",
   "id": "b73fccec-9651-4f74-9d56-a3c2b2097e19",
   "metadata": {},
   "source": [
    "Hemos estado usando `train_test_split` en nuestros modelos anteriores.\n",
    "\n",
    "¿Por qué?"
   ]
  },
  {
   "cell_type": "markdown",
   "id": "84fe97ab-a033-4d0f-ab73-0cdabe591655",
   "metadata": {},
   "source": [
    "Porque no queremos usar todos los datos enteros. No queremos usarlos porque podemos cometer overfitting y no generalizar"
   ]
  },
  {
   "cell_type": "markdown",
   "id": "0a60a028-ed60-4a5c-9308-dee4862e2bac",
   "metadata": {},
   "source": [
    "Si la muestra es un subset de la población y queremos generalizar sobre la población, ¿no sería mejor utilizar todos los datos al entrenar un modelo?"
   ]
  },
  {
   "cell_type": "markdown",
   "id": "50989a32-59e7-4bef-9b60-89f543d8ca81",
   "metadata": {},
   "source": [
    "Sí sería mejor pero, precisamente porque solo son una muestra, no queremos cometer overfitting con algo que solo es una muestra. No podría modelar la población entera"
   ]
  },
  {
   "cell_type": "markdown",
   "id": "b98d96f3-7370-4161-aa67-75f10e5817cd",
   "metadata": {},
   "source": [
    "El propósito de volver a muestrear dentro de nuestro dataset es tener una idea de qué tan buena podría ser la generalización de nuestro modelo. Imagina un dataset ya separado en dos mitades. Utilizas la primera mitad para entrenar el modelo y pruebas en la segunda mitad; la segunda mitad eran datos invisibles para el modelo al momento de entrenar. Esto nos lleva a tres escenario típicos:\n",
    "\n",
    "1. Si el modelo hace buenas predicciones en la segunda mitad, significa que la primera mitad era \"suficiente\" para generalizar.\n",
    "2. Si el modelo no hace buenas predicciones en la segunda mitad, pero sí en la primera mitad, podría ser que había información importante en la segunda mitad que debió haber sido tomada en cuenta al entrenar, o un problema de overfitting.\n",
    "3. Si el modelo no hace buenas predicciones en la segunda mitad, y tampoco en la primera mitad, se tendrían que revisar los factores y/o el modelo seleccionado.\n",
    "\n",
    "El caso ideal sería el 1, pero por estadística los errores y varianzas tienen como entrada el número de muestas, por lo que tenemos menos seguridad de nuestros resutados al usar menos muestras. Si vemos que el modelo generaliza bien podemos unir de nuevo el dataset y entrenar sobre el dataset completo.\n",
    "\n",
    "En el caso 2 está el problema de que no podemos saber qué información es necesaria para el entrenamiento apropiado del modelo; esto nos lleva a pensar que debemos usar el dataset completo para entrenar, pero esto nos lleva al mismo problema de no saber si el modelo puede generalizar.\n",
    "\n",
    "El problema sólo incrementa si se tienen hiperparámetros en el modelo (e.g. $\\lambda$ en regularización)."
   ]
  },
  {
   "cell_type": "markdown",
   "id": "a16176ad-41fc-4f3c-b865-2eb4219152e2",
   "metadata": {},
   "source": [
    "## Leave-One-Out Cross Validation"
   ]
  },
  {
   "cell_type": "markdown",
   "id": "e1f7165d-5b5d-4e92-ae7f-7edb12eea745",
   "metadata": {},
   "source": [
    "Este método de validación es una colección de $n$ `train-test-split`. Teniendo un dataset de $n$ muestras, la lógica es:\n",
    "1. Saca una muestra del dataset.\n",
    "2. Entrena tu modelo con las $n-1$ muestras.\n",
    "3. Evalúa tu modelo en la muestra que quedó fuera con el métrico que más se ajuste a la aplicación.\n",
    "4. Regresa la muestra al dataset.\n",
    "5. Repite 1-4 con muestras diferentes hasta haber hecho el procedimiento $n$ veces para $n$ muestras.\n",
    "6. Calcula la media y desviación estándar de los métricos guardados."
   ]
  },
  {
   "cell_type": "markdown",
   "id": "21340b80-8fa4-4cdf-8fe4-85e4a35febcd",
   "metadata": {},
   "source": [
    "Con los resultados del proceso de validación podemos saber qué tan bueno podría ser el modelo seleccionado con los datos (con/sin transformaciones)."
   ]
  },
  {
   "cell_type": "markdown",
   "id": "0983bf1c-a6a2-42e4-a522-92bba6b450ab",
   "metadata": {},
   "source": [
    "### Ejercicio 1"
   ]
  },
  {
   "cell_type": "markdown",
   "id": "21e5f076-bc52-482c-9560-ecd0c125efa7",
   "metadata": {},
   "source": [
    "Utiliza el dataset `Motor Trend Car Road Tests`. Elimina la columna `model` y entrena 32 modelos diferentes utilizando Leave-One-Out Cross Validation con target `mpg`. Utiliza MSE como métrico."
   ]
  },
  {
   "cell_type": "code",
   "execution_count": 3,
   "id": "71076f0a",
   "metadata": {},
   "outputs": [],
   "source": [
    "import pandas as pd\n",
    "from sklearn.metrics import mean_squared_error\n",
    "import statsmodels.api as sm\n",
    "from sklearn.preprocessing import StandardScaler\n",
    "import numpy as np"
   ]
  },
  {
   "cell_type": "markdown",
   "id": "26694241",
   "metadata": {},
   "source": [
    "## Modelo 1/32"
   ]
  },
  {
   "cell_type": "code",
   "execution_count": 4,
   "id": "89510da9-15a9-41e5-bd0e-855291acec2a",
   "metadata": {},
   "outputs": [],
   "source": [
    "datos_crudos = pd.read_excel(\"C:\\\\Users\\\\pablo\\\\OneDrive - ITESO\\\\Semestre 5\\\\Laboratorio de aprendizaje estadístico\\\\Motor Trend Car Road Tests.xlsx\")\n",
    "datos = datos_crudos.drop(columns=[\"model\"])"
   ]
  },
  {
   "cell_type": "code",
   "execution_count": null,
   "id": "b7199ca1-32f0-463b-925f-76613d608a72",
   "metadata": {},
   "outputs": [
    {
     "name": "stdout",
     "output_type": "stream",
     "text": [
      "El MSE promedio es:  12.181558006901975\n",
      "La desviación estándar del MSE es:  17.06739987188869\n"
     ]
    }
   ],
   "source": [
    "MSE_lista = []\n",
    "\n",
    "for i in range(32):\n",
    "    #Sacamos una fila de datos\n",
    "    datos_train = datos.drop(index=i)\n",
    "    datos_test = datos.iloc[[i]]\n",
    "    #Definimos X e y\n",
    "    X_train = datos_train.drop(columns=[\"mpg\"])\n",
    "    y_train = datos_train[\"mpg\"].values\n",
    "    X_test = datos_test.drop(columns=[\"mpg\"])\n",
    "    y_test = datos_test[\"mpg\"].values\n",
    "    #estandarizamos\n",
    "    scaler = StandardScaler().fit(X_train)\n",
    "    X_train_scaled = scaler.transform(X_train)\n",
    "    X_train_sm = sm.add_constant(X_train_scaled)\n",
    "    #Hacemos la regresión con el training estandarizado\n",
    "    modelo_mpg = sm.OLS(y_train, X_train_sm).fit()\n",
    "    #Predecimos\n",
    "    X_test_scaled = scaler.transform(X_test)\n",
    "    X_test_sm = sm.add_constant(X_test_scaled, has_constant='add')\n",
    "\n",
    "    y_pred = modelo_mpg.predict(X_test_sm)\n",
    "    #Calculamos el MSE\n",
    "    MSE = mean_squared_error(y_test, y_pred)\n",
    "    MSE_lista.append(MSE)\n",
    "\n",
    "MSE_lista\n",
    "print(\"El MSE promedio es: \", np.mean(MSE_lista))\n",
    "\n",
    "#La desviación estándar del MSE es:\n",
    "print(\"La desviación estándar del MSE es: \", np.std(MSE_lista))\n"
   ]
  },
  {
   "cell_type": "markdown",
   "id": "c8724bdb-e50b-4470-b53a-2d9843fae6ea",
   "metadata": {},
   "source": [
    "Interpreta."
   ]
  },
  {
   "cell_type": "markdown",
   "id": "b19904df-1fe6-433a-b1bd-a7ce86ce0eef",
   "metadata": {},
   "source": [
    "La desviación estándar entre los MSE de cada modelo es altísima. O sea, entre cada modelo, varía muchísimo. No se puede generalizar con estos modelos."
   ]
  },
  {
   "cell_type": "markdown",
   "id": "dc8ee166-b442-49f8-bf40-db9aaf9c3db8",
   "metadata": {},
   "source": []
  },
  {
   "cell_type": "markdown",
   "id": "dbc61dd1-fa5f-43b0-969a-592f8e9fc56f",
   "metadata": {},
   "source": [
    "## K-Folds Cross-Validation"
   ]
  },
  {
   "cell_type": "markdown",
   "id": "2dbca526-2c69-4c70-b6b4-270fc51d825b",
   "metadata": {},
   "source": [
    "El dataset `Motor Trend Car Road Tests` sólo tiene 32 muestras, y utilizar un modelo sencillo de regresión múltiple hace que usar LOOCV sea muy rápido. El dataset `California Housing` tiene $20640$ muestras para $9$ columnas, entonces realizar un ajuste sobre una transformación o sobre el modelo y luego calcular el impacto esperado podría tomar más tiempo."
   ]
  },
  {
   "cell_type": "markdown",
   "id": "8a437812-c00e-400f-ae7d-110b3afa5dc3",
   "metadata": {},
   "source": [
    "La solución propuesta es dividir el dataset en *k* folds (partes iguales), ajustar en *k-1* folds y probar en el restante."
   ]
  },
  {
   "cell_type": "markdown",
   "id": "5bb82cc3-0d35-442a-a12b-f9c6fd131af2",
   "metadata": {},
   "source": [
    "### Ejercicio 2\n",
    "Utiliza el dataset `California Housing` y haz K-folds Cross Validation con 10 folds. Utiliza el MSE como métrico."
   ]
  },
  {
   "cell_type": "code",
   "execution_count": 6,
   "id": "ba50e361-edcd-4cdb-9609-68f20d6fca97",
   "metadata": {},
   "outputs": [
    {
     "name": "stdout",
     "output_type": "stream",
     "text": [
      "Dataset Shape: (20640, 8) (20640,)\n",
      "Dataset Features: ['MedInc', 'HouseAge', 'AveRooms', 'AveBedrms', 'Population', 'AveOccup', 'Latitude', 'Longitude']\n",
      "Dataset Target: ['MedHouseVal']\n"
     ]
    }
   ],
   "source": [
    "from sklearn.datasets import fetch_california_housing\n",
    "\n",
    "housing = fetch_california_housing()\n",
    "print(\"Dataset Shape:\", housing.data.shape, housing.target.shape)\n",
    "print(\"Dataset Features:\", housing.feature_names)\n",
    "print(\"Dataset Target:\", housing.target_names)\n",
    "X = housing.data\n",
    "y = housing.target"
   ]
  },
  {
   "cell_type": "code",
   "execution_count": 11,
   "id": "4e8570a4-76bb-4d81-a90b-43647b0df438",
   "metadata": {},
   "outputs": [],
   "source": [
    "X_df = pd.DataFrame(X, columns = housing.feature_names)\n",
    "y_df = pd.DataFrame(y, columns = [\"MedHouseVal\"])"
   ]
  },
  {
   "cell_type": "code",
   "execution_count": 14,
   "id": "54f44358-f47d-493b-93cf-10aa2314fa20",
   "metadata": {},
   "outputs": [
    {
     "data": {
      "text/html": [
       "<div>\n",
       "<style scoped>\n",
       "    .dataframe tbody tr th:only-of-type {\n",
       "        vertical-align: middle;\n",
       "    }\n",
       "\n",
       "    .dataframe tbody tr th {\n",
       "        vertical-align: top;\n",
       "    }\n",
       "\n",
       "    .dataframe thead th {\n",
       "        text-align: right;\n",
       "    }\n",
       "</style>\n",
       "<table border=\"1\" class=\"dataframe\">\n",
       "  <thead>\n",
       "    <tr style=\"text-align: right;\">\n",
       "      <th></th>\n",
       "      <th>MedInc</th>\n",
       "      <th>HouseAge</th>\n",
       "      <th>AveRooms</th>\n",
       "      <th>AveBedrms</th>\n",
       "      <th>Population</th>\n",
       "      <th>AveOccup</th>\n",
       "      <th>Latitude</th>\n",
       "      <th>Longitude</th>\n",
       "      <th>MedHouseVal</th>\n",
       "    </tr>\n",
       "  </thead>\n",
       "  <tbody>\n",
       "    <tr>\n",
       "      <th>0</th>\n",
       "      <td>1.6812</td>\n",
       "      <td>25.0</td>\n",
       "      <td>4.192201</td>\n",
       "      <td>1.022284</td>\n",
       "      <td>1392.0</td>\n",
       "      <td>3.877437</td>\n",
       "      <td>36.06</td>\n",
       "      <td>-119.01</td>\n",
       "      <td>0.47700</td>\n",
       "    </tr>\n",
       "    <tr>\n",
       "      <th>1</th>\n",
       "      <td>2.5313</td>\n",
       "      <td>30.0</td>\n",
       "      <td>5.039384</td>\n",
       "      <td>1.193493</td>\n",
       "      <td>1565.0</td>\n",
       "      <td>2.679795</td>\n",
       "      <td>35.14</td>\n",
       "      <td>-119.46</td>\n",
       "      <td>0.45800</td>\n",
       "    </tr>\n",
       "    <tr>\n",
       "      <th>2</th>\n",
       "      <td>3.4801</td>\n",
       "      <td>52.0</td>\n",
       "      <td>3.977155</td>\n",
       "      <td>1.185877</td>\n",
       "      <td>1310.0</td>\n",
       "      <td>1.360332</td>\n",
       "      <td>37.80</td>\n",
       "      <td>-122.44</td>\n",
       "      <td>5.00001</td>\n",
       "    </tr>\n",
       "    <tr>\n",
       "      <th>3</th>\n",
       "      <td>5.7376</td>\n",
       "      <td>17.0</td>\n",
       "      <td>6.163636</td>\n",
       "      <td>1.020202</td>\n",
       "      <td>1705.0</td>\n",
       "      <td>3.444444</td>\n",
       "      <td>34.28</td>\n",
       "      <td>-118.72</td>\n",
       "      <td>2.18600</td>\n",
       "    </tr>\n",
       "    <tr>\n",
       "      <th>4</th>\n",
       "      <td>3.7250</td>\n",
       "      <td>34.0</td>\n",
       "      <td>5.492991</td>\n",
       "      <td>1.028037</td>\n",
       "      <td>1063.0</td>\n",
       "      <td>2.483645</td>\n",
       "      <td>36.62</td>\n",
       "      <td>-121.93</td>\n",
       "      <td>2.78000</td>\n",
       "    </tr>\n",
       "  </tbody>\n",
       "</table>\n",
       "</div>"
      ],
      "text/plain": [
       "   MedInc  HouseAge  AveRooms  AveBedrms  Population  AveOccup  Latitude  \\\n",
       "0  1.6812      25.0  4.192201   1.022284      1392.0  3.877437     36.06   \n",
       "1  2.5313      30.0  5.039384   1.193493      1565.0  2.679795     35.14   \n",
       "2  3.4801      52.0  3.977155   1.185877      1310.0  1.360332     37.80   \n",
       "3  5.7376      17.0  6.163636   1.020202      1705.0  3.444444     34.28   \n",
       "4  3.7250      34.0  5.492991   1.028037      1063.0  2.483645     36.62   \n",
       "\n",
       "   Longitude  MedHouseVal  \n",
       "0    -119.01      0.47700  \n",
       "1    -119.46      0.45800  \n",
       "2    -122.44      5.00001  \n",
       "3    -118.72      2.18600  \n",
       "4    -121.93      2.78000  "
      ]
     },
     "execution_count": 14,
     "metadata": {},
     "output_type": "execute_result"
    }
   ],
   "source": [
    "df_housing = pd.concat([X_df, y_df], axis=1)\n",
    "df_housing.head()"
   ]
  },
  {
   "cell_type": "code",
   "execution_count": 15,
   "id": "2ae3c25a",
   "metadata": {},
   "outputs": [
    {
     "data": {
      "text/html": [
       "<div>\n",
       "<style scoped>\n",
       "    .dataframe tbody tr th:only-of-type {\n",
       "        vertical-align: middle;\n",
       "    }\n",
       "\n",
       "    .dataframe tbody tr th {\n",
       "        vertical-align: top;\n",
       "    }\n",
       "\n",
       "    .dataframe thead th {\n",
       "        text-align: right;\n",
       "    }\n",
       "</style>\n",
       "<table border=\"1\" class=\"dataframe\">\n",
       "  <thead>\n",
       "    <tr style=\"text-align: right;\">\n",
       "      <th></th>\n",
       "      <th>MedInc</th>\n",
       "      <th>HouseAge</th>\n",
       "      <th>AveRooms</th>\n",
       "      <th>AveBedrms</th>\n",
       "      <th>Population</th>\n",
       "      <th>AveOccup</th>\n",
       "      <th>Latitude</th>\n",
       "      <th>Longitude</th>\n",
       "      <th>MedHouseVal</th>\n",
       "    </tr>\n",
       "  </thead>\n",
       "  <tbody>\n",
       "    <tr>\n",
       "      <th>0</th>\n",
       "      <td>4.5625</td>\n",
       "      <td>46.0</td>\n",
       "      <td>4.845138</td>\n",
       "      <td>1.027611</td>\n",
       "      <td>1872.0</td>\n",
       "      <td>2.247299</td>\n",
       "      <td>37.97</td>\n",
       "      <td>-122.59</td>\n",
       "      <td>2.752</td>\n",
       "    </tr>\n",
       "    <tr>\n",
       "      <th>1</th>\n",
       "      <td>4.5000</td>\n",
       "      <td>17.0</td>\n",
       "      <td>5.262517</td>\n",
       "      <td>1.012179</td>\n",
       "      <td>2415.0</td>\n",
       "      <td>3.267930</td>\n",
       "      <td>34.23</td>\n",
       "      <td>-119.19</td>\n",
       "      <td>2.343</td>\n",
       "    </tr>\n",
       "    <tr>\n",
       "      <th>2</th>\n",
       "      <td>5.2174</td>\n",
       "      <td>5.0</td>\n",
       "      <td>7.306957</td>\n",
       "      <td>1.078261</td>\n",
       "      <td>3962.0</td>\n",
       "      <td>3.445217</td>\n",
       "      <td>33.95</td>\n",
       "      <td>-117.21</td>\n",
       "      <td>1.555</td>\n",
       "    </tr>\n",
       "    <tr>\n",
       "      <th>3</th>\n",
       "      <td>2.3083</td>\n",
       "      <td>20.0</td>\n",
       "      <td>5.485777</td>\n",
       "      <td>1.262582</td>\n",
       "      <td>1072.0</td>\n",
       "      <td>2.345733</td>\n",
       "      <td>38.96</td>\n",
       "      <td>-122.63</td>\n",
       "      <td>0.602</td>\n",
       "    </tr>\n",
       "    <tr>\n",
       "      <th>4</th>\n",
       "      <td>6.0000</td>\n",
       "      <td>26.0</td>\n",
       "      <td>5.442667</td>\n",
       "      <td>0.781333</td>\n",
       "      <td>936.0</td>\n",
       "      <td>2.496000</td>\n",
       "      <td>34.15</td>\n",
       "      <td>-117.24</td>\n",
       "      <td>1.402</td>\n",
       "    </tr>\n",
       "  </tbody>\n",
       "</table>\n",
       "</div>"
      ],
      "text/plain": [
       "   MedInc  HouseAge  AveRooms  AveBedrms  Population  AveOccup  Latitude  \\\n",
       "0  4.5625      46.0  4.845138   1.027611      1872.0  2.247299     37.97   \n",
       "1  4.5000      17.0  5.262517   1.012179      2415.0  3.267930     34.23   \n",
       "2  5.2174       5.0  7.306957   1.078261      3962.0  3.445217     33.95   \n",
       "3  2.3083      20.0  5.485777   1.262582      1072.0  2.345733     38.96   \n",
       "4  6.0000      26.0  5.442667   0.781333       936.0  2.496000     34.15   \n",
       "\n",
       "   Longitude  MedHouseVal  \n",
       "0    -122.59        2.752  \n",
       "1    -119.19        2.343  \n",
       "2    -117.21        1.555  \n",
       "3    -122.63        0.602  \n",
       "4    -117.24        1.402  "
      ]
     },
     "execution_count": 15,
     "metadata": {},
     "output_type": "execute_result"
    }
   ],
   "source": [
    "#Mezclamos los datos para asegurar que el split sea aleatorio\n",
    "df_housing = df_housing.sample(frac=1, random_state=42).reset_index(drop=True)\n",
    "df_housing.head()"
   ]
  },
  {
   "cell_type": "code",
   "execution_count": 16,
   "id": "d5825998",
   "metadata": {},
   "outputs": [],
   "source": [
    "#Ahora sí sacamos X e y\n",
    "X = df_housing.drop(columns=[\"MedHouseVal\"]).values.reshape(-1,8)\n",
    "y = df_housing[\"MedHouseVal\"].values"
   ]
  },
  {
   "cell_type": "code",
   "execution_count": 20,
   "id": "2659042e",
   "metadata": {},
   "outputs": [
    {
     "name": "stdout",
     "output_type": "stream",
     "text": [
      "La desviación estándar del MSE es:  0.022266703148738846\n",
      "El MSE promedio es:  0.5270659954870699\n"
     ]
    }
   ],
   "source": [
    "MSE_lista = []\n",
    "k = 10\n",
    "n = len(y)\n",
    "fold_size = n // k\n",
    "\n",
    "for i in range(k):\n",
    "    X_train = np.concatenate([X[:i*fold_size], X[(i+1)*fold_size:]])\n",
    "    y_train = np.concatenate([y[:i*fold_size], y[(i+1)*fold_size:]])\n",
    "    X_val = X[i*fold_size:(i+1)*fold_size]\n",
    "    y_val = y[i*fold_size:(i+1)*fold_size]\n",
    "\n",
    "    #Estandarizamos\n",
    "    scaler = StandardScaler()\n",
    "    X_train = scaler.fit_transform(X_train)\n",
    "    X_val = scaler.transform(X_val)\n",
    "\n",
    "    # Entrenamos el modelo\n",
    "    model = sm.OLS(y_train, sm.add_constant(X_train)).fit()\n",
    "\n",
    "    # Hacemos predicciones y calculamos el MSE\n",
    "    y_pred = model.predict(sm.add_constant(X_val))\n",
    "    mse = mean_squared_error(y_val, y_pred)\n",
    "    MSE_lista.append(mse)\n",
    "\n",
    "# Calculamos el MSE promedio\n",
    "mse_promedio = np.mean(MSE_lista)\n",
    "desvest = np.std(MSE_lista)\n",
    "print(\"La desviación estándar del MSE es: \", desvest)\n",
    "print(\"El MSE promedio es: \", mse_promedio)"
   ]
  },
  {
   "cell_type": "code",
   "execution_count": null,
   "id": "0c9ba6c3",
   "metadata": {},
   "outputs": [],
   "source": [
    "#Haremos la regresión usando todos los datos a ver si su mse se parece al promedio que sacamos"
   ]
  },
  {
   "cell_type": "markdown",
   "id": "34f7098f-a1de-4508-b3ff-af1484561856",
   "metadata": {},
   "source": [
    "Interpreta."
   ]
  },
  {
   "cell_type": "code",
   "execution_count": 23,
   "id": "e8b738bc",
   "metadata": {},
   "outputs": [
    {
     "data": {
      "text/plain": [
       "0.5243209861846073"
      ]
     },
     "execution_count": 23,
     "metadata": {},
     "output_type": "execute_result"
    }
   ],
   "source": [
    "X_df = pd.DataFrame(X, columns = housing.feature_names)\n",
    "y_df = pd.DataFrame(y, columns = [\"MedHouseVal\"])\n",
    "\n",
    "X_df_sm = sm.add_constant(X_df)\n",
    "modelo_full = sm.OLS(y, X_df_sm).fit()\n",
    "y_full_pred = modelo_full.predict(X_df_sm)\n",
    "mse_full = mean_squared_error(y, y_full_pred)\n",
    "mse_full"
   ]
  },
  {
   "cell_type": "markdown",
   "id": "b7fbaf4d-f62b-46d9-9a35-23fcdd50a8ca",
   "metadata": {},
   "source": [
    "El MSE del modelo usando todos los datos tiene uno parecido al del promedio de los folds. Eso es muy bueno ya que sí generaliza correctamente Yeiiii"
   ]
  },
  {
   "cell_type": "markdown",
   "id": "333c8039-5b38-4835-a523-d4f6f7a7040b",
   "metadata": {},
   "source": []
  },
  {
   "cell_type": "markdown",
   "id": "da5792ac-6d38-4f02-bf10-aeaa0a040d17",
   "metadata": {},
   "source": [
    "## Referencia\n",
    "\n",
    "James, G., Witten, D., Hastie, T., Tibshirani, R.,, Taylor, J. (2023). An Introduction to Statistical Learning with Applications in Python. Cham: Springer. ISBN: 978-3-031-38746-3"
   ]
  }
 ],
 "metadata": {
  "kernelspec": {
   "display_name": "base",
   "language": "python",
   "name": "python3"
  },
  "language_info": {
   "codemirror_mode": {
    "name": "ipython",
    "version": 3
   },
   "file_extension": ".py",
   "mimetype": "text/x-python",
   "name": "python",
   "nbconvert_exporter": "python",
   "pygments_lexer": "ipython3",
   "version": "3.12.7"
  }
 },
 "nbformat": 4,
 "nbformat_minor": 5
}
