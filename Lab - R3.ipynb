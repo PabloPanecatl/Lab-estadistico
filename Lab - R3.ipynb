{
 "cells": [
  {
   "cell_type": "markdown",
   "id": "de16ac05-1760-49ad-b40c-327a96a8e846",
   "metadata": {},
   "source": [
    "# Laboratorio de regresión - 3"
   ]
  },
  {
   "cell_type": "markdown",
   "id": "1db0fb70-ca43-47f7-bbfd-fd06ca0e25f2",
   "metadata": {},
   "source": [
    "## Significancia de factores"
   ]
  },
  {
   "cell_type": "markdown",
   "id": "6043c593-39d1-405c-b92e-487314170cf6",
   "metadata": {},
   "source": [
    "|                |   |\n",
    ":----------------|---|\n",
    "| **Nombre**     | Pablo Josué Panécatl García  |\n",
    "| **Fecha**      | 25/08/25  |\n",
    "| **Expediente** | 751773  |"
   ]
  },
  {
   "cell_type": "markdown",
   "id": "2cfabde4-866e-4f00-8a37-9d57f2bebbb6",
   "metadata": {},
   "source": [
    "Descarga el archivo de publicidad y carga los datos (Advertising.csv)."
   ]
  },
  {
   "cell_type": "code",
   "execution_count": 13,
   "id": "07527ab6-7c18-48b5-9779-d5e6e5da289b",
   "metadata": {},
   "outputs": [],
   "source": [
    "import pandas as pd\n",
    "import numpy as np\n",
    "import scipy.stats as stats"
   ]
  },
  {
   "cell_type": "code",
   "execution_count": 14,
   "id": "f76bcb16-5b02-42aa-846f-fb890b34af26",
   "metadata": {},
   "outputs": [],
   "source": [
    "datos = pd.read_csv(r\"C:\\Users\\pablo\\OneDrive - ITESO\\Semestre 5\\Laboratorio de aprendizaje estadístico\\Advertising.csv\")"
   ]
  },
  {
   "cell_type": "code",
   "execution_count": 15,
   "id": "0769d0e1-47cc-4ccc-9066-3f3a06dbe283",
   "metadata": {},
   "outputs": [],
   "source": [
    "from sklearn.linear_model import LinearRegression"
   ]
  },
  {
   "cell_type": "markdown",
   "id": "f81535ac-87ca-490e-89e7-0564c31f73f0",
   "metadata": {},
   "source": [
    "**¿Hay alguna relación entre el presupuesto para publicidad y las ventas?**\n",
    "\n",
    "Nuestra primera meta debe ser determinar si hay evidencia en los datos de que haya una asociación entre estas variables.\n",
    "\n",
    "- ¿Por qué? ¿Qué resultaría si nos diéramos cuenta de la falta de relación entre el presupuesto de publicidad y las ventas?"
   ]
  },
  {
   "cell_type": "markdown",
   "id": "e5ed6dff-daa6-4680-ae46-1892fbe61743",
   "metadata": {},
   "source": []
  },
  {
   "cell_type": "markdown",
   "id": "9bc7813f-d560-4e8a-bf91-3523bf0c01b6",
   "metadata": {},
   "source": []
  },
  {
   "cell_type": "markdown",
   "id": "68d193c6-bf5b-4dd9-bcab-f2aafa9c9b2b",
   "metadata": {},
   "source": []
  },
  {
   "cell_type": "markdown",
   "id": "3ff47351-fa8b-4c19-93ce-d68dce869913",
   "metadata": {},
   "source": [
    "**¿Qué tan fuerte es esta relación?**\n",
    "Asumiendo que existe esta relación, ¿nos sirve conocer el impacto que tiene invertir en publicidad en las ventas?"
   ]
  },
  {
   "cell_type": "markdown",
   "id": "f4f729ab-b3c5-45f2-be4d-679b009f3d98",
   "metadata": {},
   "source": []
  },
  {
   "cell_type": "markdown",
   "id": "9c044753-6f17-4dbe-8fed-97e1eff2bbcd",
   "metadata": {},
   "source": []
  },
  {
   "cell_type": "markdown",
   "id": "d875c4b8-6203-4e12-947a-0a99f9832b2c",
   "metadata": {},
   "source": []
  },
  {
   "cell_type": "markdown",
   "id": "4cd03e68-778f-49cc-9161-a2fff241af56",
   "metadata": {},
   "source": [
    "**¿Cuáles medios están asociados con las ventas? ¿Qué tan grande es la asociación entre un medio específico y las ventas?**\n",
    "\n",
    "Hay 3 medios distintos en los datos. ¿Sirve invertir en los 3? ¿Conviene más invertir sólo en uno?\n",
    "\n",
    "**¿Qué tan seguros estamos de que podríamos predecir ventas futuras?**\n",
    "\n",
    "**¿La relación es lineal?**\n",
    "\n",
    "**¿Hay sinergia entre estos medios?**\n",
    "\n",
    "Puede ser que gastar \\\\$50,000 en publicidad y otros \\\\$50,000 en radio es mejor opción que gastar \\\\$100,000 en televisión. A esto le llamamos efecto de interacción.\n",
    "\n",
    "Podemos usar regresión lineal para responder todas estas preguntas."
   ]
  },
  {
   "cell_type": "markdown",
   "id": "cb3f1c79-027e-4af9-b61b-82e4a45df0bb",
   "metadata": {},
   "source": [
    "Realiza una regresión lineal:\n",
    "\n",
    "$$ \\text{ventas} \\approx \\beta_0 + (\\beta_1)(\\text{TV})$$"
   ]
  },
  {
   "cell_type": "code",
   "execution_count": 16,
   "id": "82dd5260-ff12-4261-b325-40f70c7e3783",
   "metadata": {},
   "outputs": [],
   "source": [
    "X = datos.TV.values.reshape(-1, 1)\n",
    "y = datos.sales.values"
   ]
  },
  {
   "cell_type": "code",
   "execution_count": 17,
   "id": "5c5d518d-a3da-4b63-acd9-0481b231408d",
   "metadata": {},
   "outputs": [
    {
     "data": {
      "text/plain": [
       "(array([0.04753664]), 7.032593549127694)"
      ]
     },
     "execution_count": 17,
     "metadata": {},
     "output_type": "execute_result"
    }
   ],
   "source": [
    "lr = LinearRegression()\n",
    "lr.fit(X, y)\n",
    "lr.coef_, lr.intercept_"
   ]
  },
  {
   "cell_type": "code",
   "execution_count": 18,
   "id": "b7f11512-1a7e-4cda-869d-c6eb6847564c",
   "metadata": {},
   "outputs": [],
   "source": [
    "beta0 = lr.intercept_\n",
    "beta1 = lr.coef_[0]"
   ]
  },
  {
   "cell_type": "markdown",
   "id": "a84ba655-7b09-482a-992f-02380dd54209",
   "metadata": {},
   "source": [
    "### Verificando la precisión de nuestros coeficientes estimados"
   ]
  },
  {
   "cell_type": "markdown",
   "id": "30733e87-7be2-477f-84c2-d430ad1a2a5d",
   "metadata": {},
   "source": [
    "Recuerda que en el mundo real hay ruidos y errores de medición. Siempre se asume que la verdadera relación entre $X$ y $Y$ es $$Y = \\beta_0 + \\beta_1 X + \\epsilon$$"
   ]
  },
  {
   "cell_type": "markdown",
   "id": "af33c415-790e-4e28-bcd5-8f94ac545822",
   "metadata": {},
   "source": [
    "Se asume que el término de error es independiente de $X$ (el error siempre es el mismo sin importar el valor de $X$). Este modelo describe a la *línea de regresión de la población*, que es la mejor aproximación de la verdadera relación entre $X$ y $Y$. Cuando usamos mínimos cuadrados encontramos la *línea de mínimos cuadrados*."
   ]
  },
  {
   "cell_type": "markdown",
   "id": "86d80b2d-2c96-4fa7-8348-29e8215e4e2e",
   "metadata": {},
   "source": [
    "¿Cuál es la diferencia entre población y muestra?"
   ]
  },
  {
   "cell_type": "markdown",
   "id": "ec345b97-255d-45a2-95ea-487212a02644",
   "metadata": {},
   "source": [
    "Población es la cantidad total de datos que tenemos mientras que la muestra es una pequeña parte de la población, apartada para analizarla"
   ]
  },
  {
   "cell_type": "markdown",
   "id": "ea74ba36-845f-44fe-89e4-442b66f44d9d",
   "metadata": {},
   "source": [
    "¿Cuál crees que sea la diferencia entre hacer una regresión con todos los datos de la población y una muestra de ella?"
   ]
  },
  {
   "cell_type": "markdown",
   "id": "1563051a-01a3-4a4e-bff2-f12c7d113b15",
   "metadata": {},
   "source": [
    "La regresión para la población completa sería 100% verdadera mientras la de la muestra se aproxima al 100"
   ]
  },
  {
   "cell_type": "markdown",
   "id": "c123335b-5299-4f2e-ac8e-4b1e40754221",
   "metadata": {},
   "source": [
    "La línea de regresión de la población no se puede observar. El concepto de comparar estas líneas es una extensión natural del acercamiento estadístico estándar de usar información de una muestra para estimar características de una población grande."
   ]
  },
  {
   "cell_type": "markdown",
   "id": "5b0d26b9-18de-4467-a836-3f75b228a363",
   "metadata": {},
   "source": [
    "Imagina que quieres encontrar la altura promedio de un mexicano $\\mu$. Medir a todos y cada uno de los mexicanos en situaciones similares, con la misma regla, mismo operador, y otras incontables formas de minimizar la variación de la medida es una tarea imposible. Lo que podemos asumir es que $\\hat{\\mu} = \\bar{y}$. La media poblacional y la media muestral son diferentes, pero la media muestral es usualmente un buen estimado.\n",
    "\n",
    "De la misma manera, como no contamos con el 100% de la información para hacer una regresión, los coeficientes $\\beta_0$ y $\\beta_1$ son desconocidos. Podemos estimarlos usando mínimos cuadrados, encontrando $\\hat{\\beta_0}$ y $\\hat{\\beta_1}$. Puede que las muestras que tengamos en ese momento estén un poco por encima de la media, pero otras muestras en otro momento puede que estén debajo de la media. En general, esperamos que el promedio de las aproximaciones $\\hat{\\mu}$ aproxime a $\\mu$."
   ]
  },
  {
   "cell_type": "markdown",
   "id": "7fff6312-57a0-4c9f-aaa9-f22f6294c71c",
   "metadata": {},
   "source": [
    "Esto lleva a la pregunta: ¿qué tan cercanos son nuestros coeficientes estimados a los verdaderos coeficientes? Utilizamos el concepto de error estándar para evaluar esto.\n",
    "\n",
    "$$ \\text{Var}(\\hat{\\mu})=\\text{SE}(\\hat{\\mu})^2 = \\frac{\\sigma^2}{n} $$\n",
    "\n",
    "Donde $\\sigma$ es la desviación estándar de cada una de las observaciones $y_i$ de $Y$. El error estándar nos dice la cantidad promedio que el estimado difiere del valor verdadero. Podemos ver en la fórmula que entre más observaciones tengamos el error se hace más pequeño. Las fórmulas para errores estándar de $\\hat{\\beta_0}$ y $\\hat{\\beta_1}$ son:\n",
    "\n",
    "$$ \\text{SE}(\\hat{\\beta_0})^2 = \\sigma^2 [\\frac{1}{n} + \\frac{\\bar{x}^2}{\\sum_{i=1}^n (x_i - \\bar{x})^2}]$$\n",
    "\n",
    "$$ \\text{SE}(\\hat{\\beta_1})^2 = \\frac{\\sigma^2}{\\sum_{i=1}^n (x_i - \\bar{x})^2}$$\n",
    "\n",
    "$$ \\sigma^2 = \\text{Var}(\\epsilon) = \\text{RSE}^2 = \\frac{\\text{RSS}}{n-p}$$"
   ]
  },
  {
   "cell_type": "markdown",
   "id": "661b6d7c-2274-462f-92ff-0e7be8ca742d",
   "metadata": {},
   "source": [
    "Para que estas fórmulas sean validas asumimos que los errores $\\epsilon_i$ tienen varianza común $\\sigma^2$ y que no están correlacionados.\n",
    "\n",
    "Calcula los errores estándar de los coeficientes"
   ]
  },
  {
   "cell_type": "code",
   "execution_count": 19,
   "id": "07843e5d-fa42-4266-9dda-7701a5700f07",
   "metadata": {},
   "outputs": [
    {
     "data": {
      "text/plain": [
       "0.45784294027347855"
      ]
     },
     "execution_count": 19,
     "metadata": {},
     "output_type": "execute_result"
    }
   ],
   "source": [
    "n = datos.sales.count()\n",
    "denom = (datos.TV - datos.TV.mean())**2\n",
    "denom = denom.sum()\n",
    "SE_beta0 = var*(1/n + (datos.TV.mean()**2)/denom)\n",
    "SE_beta0 = np.sqrt(SE_beta0)\n",
    "SE_beta0"
   ]
  },
  {
   "cell_type": "code",
   "execution_count": 20,
   "id": "c0f7beeb-3e18-419f-b0f1-29b47569ca11",
   "metadata": {},
   "outputs": [
    {
     "data": {
      "text/plain": [
       "0.0026906071877968707"
      ]
     },
     "execution_count": 20,
     "metadata": {},
     "output_type": "execute_result"
    }
   ],
   "source": [
    "SE_beta1 = var/denom\n",
    "SE_beta1 = np.sqrt(SE_beta1)\n",
    "SE_beta1"
   ]
  },
  {
   "cell_type": "code",
   "execution_count": 21,
   "id": "b3a49811-31de-4ffb-bb1b-fab271b55b56",
   "metadata": {},
   "outputs": [
    {
     "data": {
      "text/plain": [
       "10.618841328946221"
      ]
     },
     "execution_count": 21,
     "metadata": {},
     "output_type": "execute_result"
    }
   ],
   "source": [
    "RSS = ((lr.predict(X) - y) ** 2).sum()\n",
    "RSS\n",
    "var = RSS/(n-2)\n",
    "var"
   ]
  },
  {
   "cell_type": "code",
   "execution_count": 22,
   "id": "4944b2de",
   "metadata": {},
   "outputs": [
    {
     "data": {
      "text/plain": [
       "7.948279429674651"
      ]
     },
     "execution_count": 22,
     "metadata": {},
     "output_type": "execute_result"
    }
   ],
   "source": [
    "upper = beta0 + SE_beta0 * 2\n",
    "upper"
   ]
  },
  {
   "cell_type": "code",
   "execution_count": 23,
   "id": "c1ac019f",
   "metadata": {},
   "outputs": [
    {
     "data": {
      "text/plain": [
       "6.116907668580737"
      ]
     },
     "execution_count": 23,
     "metadata": {},
     "output_type": "execute_result"
    }
   ],
   "source": [
    "lower = beta0 - SE_beta0 * 2\n",
    "lower"
   ]
  },
  {
   "cell_type": "markdown",
   "id": "9c2711ec-2380-4bce-ac68-007378e7b76c",
   "metadata": {},
   "source": [
    "Estos errores se pueden usar para calcular intervalos de confianza. Un intervalo de confianza del $95\\%$ se define como un rango de valores en el cuál se encuentra el desconocido valor verdadero con un $95\\%$ de probabilidad.\n",
    "\n",
    "Otra forma de verlo es que si tomamos muestras repetidas y construimos un intervalo de confianza para cada una, el $95\\%$ de los intervalos creados van a contener el valor verdadero. Para la regresión el intervalo de confianza del $95\\%$ toma la forma:\n",
    "\n",
    "$$ \\hat{\\beta_j} \\pm 2\\text{SE}(\\hat{\\beta_j})$$"
   ]
  },
  {
   "cell_type": "markdown",
   "id": "a71aed31-b058-4217-8d45-9686b9611511",
   "metadata": {},
   "source": [
    "Calcula los intervalos de confianza para los coeficientes estimados:"
   ]
  },
  {
   "cell_type": "code",
   "execution_count": 24,
   "id": "8b725487-4e48-471d-9c5a-547e7e176334",
   "metadata": {},
   "outputs": [
    {
     "data": {
      "text/plain": [
       "0.052917854808613496"
      ]
     },
     "execution_count": 24,
     "metadata": {},
     "output_type": "execute_result"
    }
   ],
   "source": [
    "upper1 = beta1 + 2*SE_beta1\n",
    "upper1"
   ]
  },
  {
   "cell_type": "code",
   "execution_count": 25,
   "id": "b8173bfb-0766-4888-8c4b-2367cafde0c9",
   "metadata": {},
   "outputs": [
    {
     "data": {
      "text/plain": [
       "0.04215542605742602"
      ]
     },
     "execution_count": 25,
     "metadata": {},
     "output_type": "execute_result"
    }
   ],
   "source": [
    "lower1 = beta1 - 2*SE_beta1\n",
    "lower1"
   ]
  },
  {
   "cell_type": "code",
   "execution_count": null,
   "id": "e2681447-fa5c-4057-90c2-a32faa1d7277",
   "metadata": {},
   "outputs": [],
   "source": []
  },
  {
   "cell_type": "markdown",
   "id": "da3b3100-fb87-42de-9e74-75c72464bb7b",
   "metadata": {},
   "source": [
    "Los errores estándar también se usan para realizar pruebas de hipótesis. La prueba de hipótesis más común es probar la hipótesis nula de:\n",
    "\n",
    "$$ H_0: \\text{No hay relación entre } X \\text{ y } Y \\ \\ \\ \\ (\\beta_1=0)$$"
   ]
  },
  {
   "cell_type": "markdown",
   "id": "a1ef288e-55fe-45fb-bb86-4bef282b5947",
   "metadata": {},
   "source": [
    "contra la hipótesis alternativa:\n",
    "$$ H_0: \\text{Hay alguna relación entre } X \\text{ y } Y \\ \\ \\ (\\beta_1 \\neq 0)$$"
   ]
  },
  {
   "cell_type": "markdown",
   "id": "eaf0c27a-4a67-450c-b2ce-a65958938c25",
   "metadata": {},
   "source": [
    "Explica con tus palabras el significado de la hipótesis nula y la hipótesis alternativa."
   ]
  },
  {
   "cell_type": "markdown",
   "id": "41f7cb88-88a5-462f-84ec-6019911ebb64",
   "metadata": {},
   "source": [
    "La hipótesis nula supone que no hay ninguna relación entre el presupuesto para publicidad en TV y las ventas totales"
   ]
  },
  {
   "cell_type": "markdown",
   "id": "a2e36b97-9347-4b49-a7f2-e02448dfe25d",
   "metadata": {},
   "source": [
    "La hipótesis alterna supone que debe haber algún tipo de relación entre estas dos"
   ]
  },
  {
   "cell_type": "markdown",
   "id": "cc6404ea-89ae-45f0-9935-67dbd53b78c6",
   "metadata": {},
   "source": [
    "Para probal la hipótesis nula debemos determinar si nuestro estimado $\\hat{\\beta_1}$ de $\\beta_1$ está lo suficientemente alejado de cero para que podamos decir con confianza que este valor no es cero. \n",
    "\n",
    "¿Qué tan lejos? Depende de qué tanta confianza tengamos en el estimado encontrado. Si nuestro error estándar es pequeño y nuestro estimado está alejado de cero podríamos decir que hay muy poca probabilidad de que el valor verdadero sea 0. En cambio, si nuestro error estándar es grande y nuestro estimado está muy cerca de cero, entonces podrías ser que el valor verdadero sea cero y que no haya relación entre las variables."
   ]
  },
  {
   "cell_type": "markdown",
   "id": "96161b14-6a16-41ea-aec8-0394f729447d",
   "metadata": {},
   "source": [
    "Se calcula un *estadístico t* dado por\n",
    "$$ t = \\frac{\\hat{\\beta_j} - \\mu}{\\text{SE}(\\hat{\\beta_j})} $$"
   ]
  },
  {
   "cell_type": "markdown",
   "id": "4f04296d-854b-4fcb-9c79-6b23b516f2f3",
   "metadata": {},
   "source": [
    "donde $\\mu$ es el valor contra el que queremos probar.\n",
    "\n",
    "Calcula el estadístico t para tus coeficientes estimados, usando como referencia la prueba de hipótesis."
   ]
  },
  {
   "cell_type": "code",
   "execution_count": 26,
   "id": "68f15e0c-6c64-4ff5-a03c-8d72b639db7f",
   "metadata": {},
   "outputs": [
    {
     "data": {
      "text/plain": [
       "17.66762560087555"
      ]
     },
     "execution_count": 26,
     "metadata": {},
     "output_type": "execute_result"
    }
   ],
   "source": [
    "t1 = beta1/SE_beta1\n",
    "t1"
   ]
  },
  {
   "cell_type": "code",
   "execution_count": 27,
   "id": "3b101c1c-0570-4b3b-bb87-eb7b53e6ec51",
   "metadata": {},
   "outputs": [
    {
     "data": {
      "text/plain": [
       "15.360275174117543"
      ]
     },
     "execution_count": 27,
     "metadata": {},
     "output_type": "execute_result"
    }
   ],
   "source": [
    "t0 = beta0/SE_beta0\n",
    "t0"
   ]
  },
  {
   "cell_type": "code",
   "execution_count": null,
   "id": "2b36d935-4394-46ab-b38a-8c888f51256c",
   "metadata": {},
   "outputs": [],
   "source": []
  },
  {
   "cell_type": "markdown",
   "id": "7737b123-f4c5-403c-92f2-4800c79107d9",
   "metadata": {},
   "source": [
    "La distribución t tiene forma de campana y se parece bastante a la distribución normal cuando $n > 30$. Ya sólo es cuestión de calcular la probabilidad de observar cualquier número tal que su valor absoluto sea igual o mayor que el valor absoluto del estadístico t calculado. En otras palabras:\n",
    "$$ P(|x| \\geq |t|) $$"
   ]
  },
  {
   "cell_type": "markdown",
   "id": "6bb2ccf1-b4b1-4c0c-a15b-d4fdd2f4552a",
   "metadata": {},
   "source": [
    "A esta probabilidad la llamamos *p-value*. Un *p-value* pequeño indica que es poco probable que exista por puro azar una relación significativa entre predictor y respuesta, en caso de que no haya una asociación real entre predictor y respuesta. En otras palabras, el *p-value* te dice la probabilidad de que parezca que hay relación cuando no la hay.\n",
    "\n",
    "Si el *p-value* es pequeño, inferimos que sí hay una asociación entre el predictor y la respuesta, y **rechazamos la hipótesis nula**.\n",
    "  "
   ]
  },
  {
   "cell_type": "markdown",
   "id": "c7f17065-a71d-4322-8782-3e805df65d29",
   "metadata": {},
   "source": [
    "¿Qué tan pequeño? Depende de la aplicación. Un valor muy común es del $5\\%$.\n",
    "\n",
    "Utiliza el siguiente código para calcular el *p-value* para tus coeficientes\n",
    "\n",
    "`from scipy import stats`\n",
    "\n",
    "`p_bj = 2*(1 - stats.t.cdf(np.abs(t_bj), n-p))`"
   ]
  },
  {
   "cell_type": "code",
   "execution_count": 28,
   "id": "7a542d04-f9cb-4ea2-9af1-ca79d1539860",
   "metadata": {},
   "outputs": [],
   "source": [
    "from scipy import stats"
   ]
  },
  {
   "cell_type": "code",
   "execution_count": 29,
   "id": "18100af3-810f-4bce-8e9c-85e3aeda8b53",
   "metadata": {},
   "outputs": [
    {
     "data": {
      "text/plain": [
       "0.0"
      ]
     },
     "execution_count": 29,
     "metadata": {},
     "output_type": "execute_result"
    }
   ],
   "source": [
    "p_b1 = 2*(1 - stats.t.cdf(np.abs(t1), df=n-2))\n",
    "p_b1"
   ]
  },
  {
   "cell_type": "code",
   "execution_count": 30,
   "id": "3f85649a-4e68-4902-bc28-90722b192c9f",
   "metadata": {},
   "outputs": [
    {
     "data": {
      "text/plain": [
       "0.0"
      ]
     },
     "execution_count": 30,
     "metadata": {},
     "output_type": "execute_result"
    }
   ],
   "source": [
    "p_b0 = 2*(1 - stats.t.cdf(np.abs(t0), df=n-2))\n",
    "p_b0"
   ]
  },
  {
   "cell_type": "markdown",
   "id": "2be9ad17-db40-405e-b88a-d0af8a05aacf",
   "metadata": {},
   "source": [
    "¿Se rechaza la hipótesis nula? ¿Qué significa?"
   ]
  },
  {
   "cell_type": "markdown",
   "id": "261f861e-f191-47f8-9510-7444ab416756",
   "metadata": {},
   "source": [
    "Se rechaza la hipótesis nula"
   ]
  },
  {
   "cell_type": "markdown",
   "id": "2a1eaedd-7f9b-4627-89bf-bac8fe6b1c4f",
   "metadata": {},
   "source": [
    "Eso significa que la beta que calculamos es muy acercada a la real"
   ]
  },
  {
   "cell_type": "markdown",
   "id": "3a994d1a-6187-491c-a518-7971cebe3c0a",
   "metadata": {},
   "source": [
    "Realiza otras dos regresiones. Ya tienes hecha la regresión de ventas dado el gasto en publicidad de TV. Realiza la regresión para gastos en radio y gastos en periódico. Organiza las respuestas para que debajo de esta celda se tenga:\n",
    "- Título de regresión\n",
    "- Coeficientes estimados\n",
    "- Errores estándar de los coeficientes\n",
    "- Intervalos de confianza\n",
    "- Estadísticos t\n",
    "- p-values\n",
    "- Observaciones"
   ]
  },
  {
   "cell_type": "markdown",
   "id": "23ad9302",
   "metadata": {},
   "source": [
    "### Regresión para gastos en radio"
   ]
  },
  {
   "cell_type": "markdown",
   "id": "7430d162",
   "metadata": {},
   "source": [
    "#### Coeficientes estimados"
   ]
  },
  {
   "cell_type": "code",
   "execution_count": 31,
   "id": "166901b6-333e-49f2-bd64-52f13d866e1e",
   "metadata": {},
   "outputs": [
    {
     "data": {
      "text/plain": [
       "(9.311638095158283, 0.20249578339243965)"
      ]
     },
     "execution_count": 31,
     "metadata": {},
     "output_type": "execute_result"
    }
   ],
   "source": [
    "x_radio = datos.radio.values.reshape(-1, 1)\n",
    "regresion_radio = LinearRegression().fit(x_radio, y)\n",
    "beta_0_radio = regresion_radio.intercept_\n",
    "beta_1_radio = regresion_radio.coef_[0]\n",
    "beta_0_radio, beta_1_radio"
   ]
  },
  {
   "cell_type": "markdown",
   "id": "0204ef4f",
   "metadata": {},
   "source": [
    "#### Errores estándar de los coeficientes"
   ]
  },
  {
   "cell_type": "code",
   "execution_count": 32,
   "id": "cbfaed5f-f044-43e4-90b7-29144d8b8f0f",
   "metadata": {},
   "outputs": [
    {
     "data": {
      "text/plain": [
       "(0.5629004962718711, 0.020411306360090635)"
      ]
     },
     "execution_count": 32,
     "metadata": {},
     "output_type": "execute_result"
    }
   ],
   "source": [
    "RSS_radio = np.sum((y - regresion_radio.predict(x_radio))**2)\n",
    "var_radio = RSS_radio/(n-2)\n",
    "denom_radio = np.sum((datos.radio - datos.radio.mean())**2)\n",
    "SE_beta0_radio = np.sqrt(var_radio*(1/n + (datos.radio.mean()**2)/denom_radio))\n",
    "SE_beta1_radio = np.sqrt(var_radio/denom_radio)\n",
    "SE_beta0_radio, SE_beta1_radio"
   ]
  },
  {
   "cell_type": "markdown",
   "id": "c71100b6",
   "metadata": {},
   "source": [
    "#### Intervalos de confianza"
   ]
  },
  {
   "cell_type": "code",
   "execution_count": 33,
   "id": "5d65ed89-7878-416a-a412-e83aa4a3a390",
   "metadata": {},
   "outputs": [
    {
     "data": {
      "text/plain": [
       "(8.185837102614542, 10.437439087702025, 0.1616731706722584, 0.2433183961126209)"
      ]
     },
     "execution_count": 33,
     "metadata": {},
     "output_type": "execute_result"
    }
   ],
   "source": [
    "lower_beta0_radio = beta_0_radio - 2*SE_beta0_radio\n",
    "upper_beta0_radio = beta_0_radio + 2*SE_beta0_radio\n",
    "lower_beta1_radio = beta_1_radio - 2*SE_beta1_radio\n",
    "upper_beta1_radio = beta_1_radio + 2*SE_beta1_radio\n",
    "lower_beta0_radio, upper_beta0_radio, lower_beta1_radio, upper_beta1_radio"
   ]
  },
  {
   "cell_type": "markdown",
   "id": "30601cfb",
   "metadata": {},
   "source": [
    "#### Estadísticos t"
   ]
  },
  {
   "cell_type": "code",
   "execution_count": 34,
   "id": "6cae173d",
   "metadata": {},
   "outputs": [
    {
     "data": {
      "text/plain": [
       "(16.542245311258217, 9.920765472824959)"
      ]
     },
     "execution_count": 34,
     "metadata": {},
     "output_type": "execute_result"
    }
   ],
   "source": [
    "t_0_radio = beta_0_radio / SE_beta0_radio\n",
    "t_1_radio = beta_1_radio / SE_beta1_radio\n",
    "t_0_radio, t_1_radio"
   ]
  },
  {
   "cell_type": "markdown",
   "id": "c1a9851d",
   "metadata": {},
   "source": [
    "#### p-values"
   ]
  },
  {
   "cell_type": "code",
   "execution_count": 35,
   "id": "cf543273",
   "metadata": {},
   "outputs": [
    {
     "data": {
      "text/plain": [
       "(0.0, 0.0)"
      ]
     },
     "execution_count": 35,
     "metadata": {},
     "output_type": "execute_result"
    }
   ],
   "source": [
    "P_value_b0_radio = 2*(1 - stats.t.cdf(np.abs(t_0_radio), df=n-2))\n",
    "P_value_b1_radio = 2*(1 - stats.t.cdf(np.abs(t_1_radio), df=n-2))\n",
    "P_value_b0_radio, P_value_b1_radio"
   ]
  },
  {
   "cell_type": "markdown",
   "id": "39ef0526",
   "metadata": {},
   "source": [
    "#### Observaciones\n",
    "\n",
    "Se nota claramente que la hipótesis \"No hay efecto\" es falsa, por lo que, primeramente, podemos decir que sí hay efecto. \n",
    "Segundo, podemos decir que las betas que calculamos son MUY cercanas a las reales"
   ]
  },
  {
   "cell_type": "markdown",
   "id": "d7b34885",
   "metadata": {},
   "source": [
    "### Regresión para gastos en periódico"
   ]
  },
  {
   "cell_type": "markdown",
   "id": "e88317f8",
   "metadata": {},
   "source": [
    "#### Coeficientes estimados"
   ]
  },
  {
   "cell_type": "code",
   "execution_count": 36,
   "id": "9ba845f0",
   "metadata": {},
   "outputs": [
    {
     "data": {
      "text/plain": [
       "(12.351407069278162, 0.05469309847227335)"
      ]
     },
     "execution_count": 36,
     "metadata": {},
     "output_type": "execute_result"
    }
   ],
   "source": [
    "x_newspaper = datos.newspaper.values.reshape(-1, 1)\n",
    "regresion_newspaper = LinearRegression().fit(x_newspaper, y)\n",
    "beta_0_newspaper = regresion_newspaper.intercept_\n",
    "beta_1_newspaper = regresion_newspaper.coef_[0]\n",
    "beta_0_newspaper, beta_1_newspaper"
   ]
  },
  {
   "cell_type": "markdown",
   "id": "fd7adbae",
   "metadata": {},
   "source": [
    "#### Errores estándar de los coeficientes"
   ]
  },
  {
   "cell_type": "code",
   "execution_count": 37,
   "id": "8f622ed9",
   "metadata": {},
   "outputs": [
    {
     "data": {
      "text/plain": [
       "(0.6214201876094345, 0.016575721876358165)"
      ]
     },
     "execution_count": 37,
     "metadata": {},
     "output_type": "execute_result"
    }
   ],
   "source": [
    "RSS_newspaper = np.sum((y - regresion_newspaper.predict(x_newspaper))**2)\n",
    "var_newspaper = RSS_newspaper/(n-2)\n",
    "denom_newspaper = np.sum((datos.newspaper - datos.newspaper.mean())**2)\n",
    "SE_beta0_newspaper = np.sqrt(var_newspaper*(1/n + (datos.newspaper.mean()**2)/denom_newspaper))\n",
    "SE_beta1_newspaper = np.sqrt(var_newspaper/denom_newspaper)\n",
    "SE_beta0_newspaper, SE_beta1_newspaper"
   ]
  },
  {
   "cell_type": "markdown",
   "id": "c8a62a34",
   "metadata": {},
   "source": [
    "#### Intervalos de confianza"
   ]
  },
  {
   "cell_type": "code",
   "execution_count": 38,
   "id": "bb93a752",
   "metadata": {},
   "outputs": [
    {
     "data": {
      "text/plain": [
       "(11.108566694059293,\n",
       " 13.59424744449703,\n",
       " 0.02154165471955702,\n",
       " 0.08784454222498968)"
      ]
     },
     "execution_count": 38,
     "metadata": {},
     "output_type": "execute_result"
    }
   ],
   "source": [
    "lower_beta0_newspaper = beta_0_newspaper - 2*SE_beta0_newspaper\n",
    "upper_beta0_newspaper = beta_0_newspaper + 2*SE_beta0_newspaper\n",
    "lower_beta1_newspaper = beta_1_newspaper - 2*SE_beta1_newspaper\n",
    "upper_beta1_newspaper = beta_1_newspaper + 2*SE_beta1_newspaper\n",
    "lower_beta0_newspaper, upper_beta0_newspaper, lower_beta1_newspaper, upper_beta1_newspaper"
   ]
  },
  {
   "cell_type": "markdown",
   "id": "6becc2a3",
   "metadata": {},
   "source": [
    "#### Estadísticos t"
   ]
  },
  {
   "cell_type": "code",
   "execution_count": 39,
   "id": "339135f7",
   "metadata": {},
   "outputs": [
    {
     "data": {
      "text/plain": [
       "(19.87609562024895, 3.2995907436334178)"
      ]
     },
     "execution_count": 39,
     "metadata": {},
     "output_type": "execute_result"
    }
   ],
   "source": [
    "t_0_newspaper = beta_0_newspaper / SE_beta0_newspaper\n",
    "t_1_newspaper = beta_1_newspaper / SE_beta1_newspaper\n",
    "t_0_newspaper, t_1_newspaper"
   ]
  },
  {
   "cell_type": "markdown",
   "id": "8323f492",
   "metadata": {},
   "source": [
    "#### p-values"
   ]
  },
  {
   "cell_type": "code",
   "execution_count": 40,
   "id": "d160e881",
   "metadata": {},
   "outputs": [
    {
     "data": {
      "text/plain": [
       "(0.0, 0.0011481958688881466)"
      ]
     },
     "execution_count": 40,
     "metadata": {},
     "output_type": "execute_result"
    }
   ],
   "source": [
    "P_value_b0_newspaper = 2*(1 - stats.t.cdf(np.abs(t_0_newspaper), df=n-2))\n",
    "P_value_b1_newspaper = 2*(1 - stats.t.cdf(np.abs(t_1_newspaper), df=n-2))\n",
    "P_value_b0_newspaper, P_value_b1_newspaper"
   ]
  },
  {
   "cell_type": "markdown",
   "id": "805cf2a0",
   "metadata": {},
   "source": [
    "#### Observaciones\n",
    "\n",
    "En este caso podemos también notar que con seguridad concluimos lo mismo que para radio. Con la única observación de que el beta 1 no es tan segurísimo como el pasado (Pero aún muy seguro). El beta1 nos dice que hace super poco efecto en las ventas el presupuesto de periódico."
   ]
  },
  {
   "cell_type": "markdown",
   "id": "556988ae-3656-428d-817b-76f9e1534f46",
   "metadata": {},
   "source": [
    "## Regresión lineal múltiple"
   ]
  },
  {
   "cell_type": "markdown",
   "id": "943698d8-7f84-4245-8be3-e4c8f34be5da",
   "metadata": {},
   "source": [
    "En lugar de hacer una regresión para cada factor independiente, quizás se puede extender el modelo para que tenga varios factores dentro:\n",
    "\n",
    "$$ Y = \\beta_0 + \\beta_1 X_1 + \\beta_2 X_2 + ... + \\beta_p X_p + \\epsilon $$\n",
    "\n",
    "Para nuestro ejemplo de publicidad:\n",
    "\n",
    "$$ \\text{sales} = \\beta_0 + \\beta_1 (\\text{TV}) + \\beta_2 (\\text{radio}) + \\beta_3 (\\text{newspaper}) + \\epsilon $$"
   ]
  },
  {
   "cell_type": "markdown",
   "id": "df8cd89a-0c25-4e1d-9213-292807e17ccf",
   "metadata": {},
   "source": [
    "Utiliza la librería `statsmodels` para realizar la regresión. Por defecto la librería statsmodels no toma en cuenta el intercepto ($\\beta_0$), por lo que se tendrá que agregar una columna de unos de tamaño *n* a la matriz X.\n",
    "\n",
    "`import statsmodels.api as sm`\n",
    "\n",
    "`ols = sm.OLS(Y, X)`\n",
    "\n",
    "`results = ols.fit()`\n",
    "\n",
    "`results.summary()`"
   ]
  },
  {
   "cell_type": "code",
   "execution_count": 49,
   "id": "022522eb-2c18-435e-b51b-4ed5a5c54669",
   "metadata": {},
   "outputs": [],
   "source": [
    "import statsmodels.api as sm\n",
    "ones = np.ones((n, 1))\n",
    "Xbig = np.hstack((ones, X, x_radio, x_newspaper, X*x_radio, X*x_newspaper, x_radio*x_newspaper))"
   ]
  },
  {
   "cell_type": "code",
   "execution_count": 50,
   "id": "a7a3bd74-0f56-4199-a327-278c3ec9919e",
   "metadata": {},
   "outputs": [
    {
     "data": {
      "text/html": [
       "<table class=\"simpletable\">\n",
       "<caption>OLS Regression Results</caption>\n",
       "<tr>\n",
       "  <th>Dep. Variable:</th>            <td>y</td>        <th>  R-squared:         </th> <td>   0.969</td> \n",
       "</tr>\n",
       "<tr>\n",
       "  <th>Model:</th>                   <td>OLS</td>       <th>  Adj. R-squared:    </th> <td>   0.968</td> \n",
       "</tr>\n",
       "<tr>\n",
       "  <th>Method:</th>             <td>Least Squares</td>  <th>  F-statistic:       </th> <td>   993.3</td> \n",
       "</tr>\n",
       "<tr>\n",
       "  <th>Date:</th>             <td>Thu, 28 Aug 2025</td> <th>  Prob (F-statistic):</th> <td>3.68e-142</td>\n",
       "</tr>\n",
       "<tr>\n",
       "  <th>Time:</th>                 <td>17:42:50</td>     <th>  Log-Likelihood:    </th> <td> -267.49</td> \n",
       "</tr>\n",
       "<tr>\n",
       "  <th>No. Observations:</th>      <td>   200</td>      <th>  AIC:               </th> <td>   549.0</td> \n",
       "</tr>\n",
       "<tr>\n",
       "  <th>Df Residuals:</th>          <td>   193</td>      <th>  BIC:               </th> <td>   572.1</td> \n",
       "</tr>\n",
       "<tr>\n",
       "  <th>Df Model:</th>              <td>     6</td>      <th>                     </th>     <td> </td>    \n",
       "</tr>\n",
       "<tr>\n",
       "  <th>Covariance Type:</th>      <td>nonrobust</td>    <th>                     </th>     <td> </td>    \n",
       "</tr>\n",
       "</table>\n",
       "<table class=\"simpletable\">\n",
       "<tr>\n",
       "    <td></td>       <th>coef</th>     <th>std err</th>      <th>t</th>      <th>P>|t|</th>  <th>[0.025</th>    <th>0.975]</th>  \n",
       "</tr>\n",
       "<tr>\n",
       "  <th>const</th> <td>    6.4602</td> <td>    0.318</td> <td>   20.342</td> <td> 0.000</td> <td>    5.834</td> <td>    7.087</td>\n",
       "</tr>\n",
       "<tr>\n",
       "  <th>x1</th>    <td>    0.0203</td> <td>    0.002</td> <td>   12.633</td> <td> 0.000</td> <td>    0.017</td> <td>    0.024</td>\n",
       "</tr>\n",
       "<tr>\n",
       "  <th>x2</th>    <td>    0.0229</td> <td>    0.011</td> <td>    2.009</td> <td> 0.046</td> <td>    0.000</td> <td>    0.045</td>\n",
       "</tr>\n",
       "<tr>\n",
       "  <th>x3</th>    <td>    0.0170</td> <td>    0.010</td> <td>    1.691</td> <td> 0.092</td> <td>   -0.003</td> <td>    0.037</td>\n",
       "</tr>\n",
       "<tr>\n",
       "  <th>x4</th>    <td>    0.0011</td> <td> 5.72e-05</td> <td>   19.930</td> <td> 0.000</td> <td>    0.001</td> <td>    0.001</td>\n",
       "</tr>\n",
       "<tr>\n",
       "  <th>x5</th>    <td>-7.971e-05</td> <td> 3.58e-05</td> <td>   -2.227</td> <td> 0.027</td> <td>   -0.000</td> <td>-9.12e-06</td>\n",
       "</tr>\n",
       "<tr>\n",
       "  <th>x6</th>    <td>   -0.0001</td> <td>    0.000</td> <td>   -0.464</td> <td> 0.643</td> <td>   -0.001</td> <td>    0.000</td>\n",
       "</tr>\n",
       "</table>\n",
       "<table class=\"simpletable\">\n",
       "<tr>\n",
       "  <th>Omnibus:</th>       <td>111.385</td> <th>  Durbin-Watson:     </th> <td>   2.222</td> \n",
       "</tr>\n",
       "<tr>\n",
       "  <th>Prob(Omnibus):</th> <td> 0.000</td>  <th>  Jarque-Bera (JB):  </th> <td> 767.483</td> \n",
       "</tr>\n",
       "<tr>\n",
       "  <th>Skew:</th>          <td>-2.046</td>  <th>  Prob(JB):          </th> <td>2.20e-167</td>\n",
       "</tr>\n",
       "<tr>\n",
       "  <th>Kurtosis:</th>      <td>11.681</td>  <th>  Cond. No.          </th> <td>3.80e+04</td> \n",
       "</tr>\n",
       "</table><br/><br/>Notes:<br/>[1] Standard Errors assume that the covariance matrix of the errors is correctly specified.<br/>[2] The condition number is large, 3.8e+04. This might indicate that there are<br/>strong multicollinearity or other numerical problems."
      ],
      "text/latex": [
       "\\begin{center}\n",
       "\\begin{tabular}{lclc}\n",
       "\\toprule\n",
       "\\textbf{Dep. Variable:}    &        y         & \\textbf{  R-squared:         } &     0.969   \\\\\n",
       "\\textbf{Model:}            &       OLS        & \\textbf{  Adj. R-squared:    } &     0.968   \\\\\n",
       "\\textbf{Method:}           &  Least Squares   & \\textbf{  F-statistic:       } &     993.3   \\\\\n",
       "\\textbf{Date:}             & Thu, 28 Aug 2025 & \\textbf{  Prob (F-statistic):} & 3.68e-142   \\\\\n",
       "\\textbf{Time:}             &     17:42:50     & \\textbf{  Log-Likelihood:    } &   -267.49   \\\\\n",
       "\\textbf{No. Observations:} &         200      & \\textbf{  AIC:               } &     549.0   \\\\\n",
       "\\textbf{Df Residuals:}     &         193      & \\textbf{  BIC:               } &     572.1   \\\\\n",
       "\\textbf{Df Model:}         &           6      & \\textbf{                     } &             \\\\\n",
       "\\textbf{Covariance Type:}  &    nonrobust     & \\textbf{                     } &             \\\\\n",
       "\\bottomrule\n",
       "\\end{tabular}\n",
       "\\begin{tabular}{lcccccc}\n",
       "               & \\textbf{coef} & \\textbf{std err} & \\textbf{t} & \\textbf{P$> |$t$|$} & \\textbf{[0.025} & \\textbf{0.975]}  \\\\\n",
       "\\midrule\n",
       "\\textbf{const} &       6.4602  &        0.318     &    20.342  &         0.000        &        5.834    &        7.087     \\\\\n",
       "\\textbf{x1}    &       0.0203  &        0.002     &    12.633  &         0.000        &        0.017    &        0.024     \\\\\n",
       "\\textbf{x2}    &       0.0229  &        0.011     &     2.009  &         0.046        &        0.000    &        0.045     \\\\\n",
       "\\textbf{x3}    &       0.0170  &        0.010     &     1.691  &         0.092        &       -0.003    &        0.037     \\\\\n",
       "\\textbf{x4}    &       0.0011  &     5.72e-05     &    19.930  &         0.000        &        0.001    &        0.001     \\\\\n",
       "\\textbf{x5}    &   -7.971e-05  &     3.58e-05     &    -2.227  &         0.027        &       -0.000    &    -9.12e-06     \\\\\n",
       "\\textbf{x6}    &      -0.0001  &        0.000     &    -0.464  &         0.643        &       -0.001    &        0.000     \\\\\n",
       "\\bottomrule\n",
       "\\end{tabular}\n",
       "\\begin{tabular}{lclc}\n",
       "\\textbf{Omnibus:}       & 111.385 & \\textbf{  Durbin-Watson:     } &     2.222  \\\\\n",
       "\\textbf{Prob(Omnibus):} &   0.000 & \\textbf{  Jarque-Bera (JB):  } &   767.483  \\\\\n",
       "\\textbf{Skew:}          &  -2.046 & \\textbf{  Prob(JB):          } & 2.20e-167  \\\\\n",
       "\\textbf{Kurtosis:}      &  11.681 & \\textbf{  Cond. No.          } &  3.80e+04  \\\\\n",
       "\\bottomrule\n",
       "\\end{tabular}\n",
       "%\\caption{OLS Regression Results}\n",
       "\\end{center}\n",
       "\n",
       "Notes: \\newline\n",
       " [1] Standard Errors assume that the covariance matrix of the errors is correctly specified. \\newline\n",
       " [2] The condition number is large, 3.8e+04. This might indicate that there are \\newline\n",
       " strong multicollinearity or other numerical problems."
      ],
      "text/plain": [
       "<class 'statsmodels.iolib.summary.Summary'>\n",
       "\"\"\"\n",
       "                            OLS Regression Results                            \n",
       "==============================================================================\n",
       "Dep. Variable:                      y   R-squared:                       0.969\n",
       "Model:                            OLS   Adj. R-squared:                  0.968\n",
       "Method:                 Least Squares   F-statistic:                     993.3\n",
       "Date:                Thu, 28 Aug 2025   Prob (F-statistic):          3.68e-142\n",
       "Time:                        17:42:50   Log-Likelihood:                -267.49\n",
       "No. Observations:                 200   AIC:                             549.0\n",
       "Df Residuals:                     193   BIC:                             572.1\n",
       "Df Model:                           6                                         \n",
       "Covariance Type:            nonrobust                                         \n",
       "==============================================================================\n",
       "                 coef    std err          t      P>|t|      [0.025      0.975]\n",
       "------------------------------------------------------------------------------\n",
       "const          6.4602      0.318     20.342      0.000       5.834       7.087\n",
       "x1             0.0203      0.002     12.633      0.000       0.017       0.024\n",
       "x2             0.0229      0.011      2.009      0.046       0.000       0.045\n",
       "x3             0.0170      0.010      1.691      0.092      -0.003       0.037\n",
       "x4             0.0011   5.72e-05     19.930      0.000       0.001       0.001\n",
       "x5         -7.971e-05   3.58e-05     -2.227      0.027      -0.000   -9.12e-06\n",
       "x6            -0.0001      0.000     -0.464      0.643      -0.001       0.000\n",
       "==============================================================================\n",
       "Omnibus:                      111.385   Durbin-Watson:                   2.222\n",
       "Prob(Omnibus):                  0.000   Jarque-Bera (JB):              767.483\n",
       "Skew:                          -2.046   Prob(JB):                    2.20e-167\n",
       "Kurtosis:                      11.681   Cond. No.                     3.80e+04\n",
       "==============================================================================\n",
       "\n",
       "Notes:\n",
       "[1] Standard Errors assume that the covariance matrix of the errors is correctly specified.\n",
       "[2] The condition number is large, 3.8e+04. This might indicate that there are\n",
       "strong multicollinearity or other numerical problems.\n",
       "\"\"\""
      ]
     },
     "execution_count": 50,
     "metadata": {},
     "output_type": "execute_result"
    }
   ],
   "source": [
    "ols = sm.OLS(y, Xbig)\n",
    "results = ols.fit()\n",
    "results.summary()"
   ]
  },
  {
   "cell_type": "code",
   "execution_count": null,
   "id": "e9c9f7ea-0b4c-4f54-922e-6d1222da5da5",
   "metadata": {},
   "outputs": [],
   "source": []
  },
  {
   "cell_type": "markdown",
   "id": "df0f403f-b246-4706-a4c6-5f17be224048",
   "metadata": {},
   "source": [
    "¿Qué diferencias puedes observar entre los *p-values* de una regresión múltiple y los encontrados en las regresiones simples? ¿Por qué crees que existen estas diferencias?"
   ]
  },
  {
   "cell_type": "code",
   "execution_count": null,
   "id": "317a8b94-91a5-488f-8c9c-8f830c61a77e",
   "metadata": {},
   "outputs": [],
   "source": []
  },
  {
   "cell_type": "code",
   "execution_count": null,
   "id": "9ab73ea5-4c61-4a77-a596-708863d1ca20",
   "metadata": {},
   "outputs": [],
   "source": []
  },
  {
   "cell_type": "code",
   "execution_count": null,
   "id": "ca597716-79ca-45b4-9629-5c9bddc125e8",
   "metadata": {},
   "outputs": [],
   "source": []
  },
  {
   "cell_type": "markdown",
   "id": "3898858d-5dda-42ae-b458-b5e7fcd2df76",
   "metadata": {},
   "source": [
    "## Referencia\n",
    "\n",
    "James, G., Witten, D., Hastie, T., Tibshirani, R.,, Taylor, J. (2023). An Introduction to Statistical Learning with Applications in Python. Cham: Springer. ISBN: 978-3-031-38746-3"
   ]
  },
  {
   "cell_type": "markdown",
   "id": "8a72b870-2174-4ea9-adac-260d6aa97067",
   "metadata": {},
   "source": [
    "## Addendum"
   ]
  },
  {
   "cell_type": "markdown",
   "id": "8dacc515-40ee-4ac8-a6f6-9e1a22b97313",
   "metadata": {},
   "source": [
    "Para calcular los *p-values* de los parámetros sin `statsmodels`:\n",
    "1. Calcular RSS\n",
    "2. Calcular RSE\n",
    "3. `var_beta = np.linalg.inv(X.T @ X) * rse**2` (X con columna de intercepto)\n",
    "4. `std_beta = np.sqrt(var_beta.diagonal())` El orden de los valores corresponde al orden de los factores en las columnas de la matriz $X$.\n",
    "5. Calcular *estadístico t*\n",
    "6. Calcular *p-value*"
   ]
  }
 ],
 "metadata": {
  "kernelspec": {
   "display_name": "base",
   "language": "python",
   "name": "python3"
  },
  "language_info": {
   "codemirror_mode": {
    "name": "ipython",
    "version": 3
   },
   "file_extension": ".py",
   "mimetype": "text/x-python",
   "name": "python",
   "nbconvert_exporter": "python",
   "pygments_lexer": "ipython3",
   "version": "3.12.7"
  }
 },
 "nbformat": 4,
 "nbformat_minor": 5
}
